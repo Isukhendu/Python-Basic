{
  "nbformat": 4,
  "nbformat_minor": 0,
  "metadata": {
    "colab": {
      "provenance": []
    },
    "kernelspec": {
      "name": "python3",
      "display_name": "Python 3"
    },
    "language_info": {
      "name": "python"
    }
  },
  "cells": [
    {
      "cell_type": "code",
      "execution_count": null,
      "metadata": {
        "id": "rlTtp4SVela-"
      },
      "outputs": [],
      "source": []
    },
    {
      "cell_type": "markdown",
      "source": [
        "**1.\tWhat is Python, and why is it popular?**\n",
        "- Python is a high-level, interpreted programming language known for its clear syntax and readability.\n",
        "Python's combination of simplicity, versatility, and strong community support has contributed to its popularity, making it a preferred choice for a wide range of applications.\n",
        "\n",
        "**2.\tWhat is an interpreter in Python?**\n",
        "- In Python, an interpreter is a program that executes Python code. Unlike compiled languages, where code is transformed into machine language before execution, Python is an interpreted language. This means that Python code is executed line by line by the interpreter, which allows for dynamic execution and immediate feedback.\n",
        "\n",
        "**3.\tWhat are pre-defined keywords in Python?**\n",
        "- In Python, keywords are reserved words that have special meaning and serve specific purposes in the language syntax. Since they are predefined in the Python interpreter, keywords cannot be used as identifiers (names for variables, functions, classes, etc.).\n",
        "\n",
        "**4.\tCan keywords be used as variable names?**\n",
        "- No, keywords in Python cannot be used as variable names (or identifiers). Keywords are reserved words in the Python language that have special meaning; attempting to use them as variable names will result in a syntax error.\n",
        "if = 10  # This will raise a SyntaxError\n",
        "\n",
        "**5.\tWhat is mutability in Python?**\n",
        "- In Python, mutability refers to the ability of an object to change its state or contents after it has been created.\n",
        "\n",
        "**6.\tWhy are lists mutable, but tuples are immutable?**\n",
        "- The key difference between lists and tuples is that lists are changeable and can be modified or altered, whereas tuples are immutable, meaning their contents cannot be altered once they are created. Furthermore, tuples use less memory than lists do. Lists can be altered after they are generated, while tuples cannot.\n",
        "\n",
        "**7.\tWhat is the difference between \"==\" and \"is\" operators in Python?**\n",
        "- In Python, the `==` and `is` operators are used for comparison, but they serve different purposes and have distinct meanings:\n",
        "\n",
        "- The `==` operator checks for value equality. It compares the values of two objects to see if they are equivalent, regardless of whether they are the same object in memory.\n",
        "\n",
        "- The `is` operator checks for identity equality. It determines whether two references point to the same object in memory.\n",
        "\n",
        "\n",
        "**8.\tWhat are logical operators in Python?**\n",
        "- In Python, logical operators are used to combine conditional statements and evaluate Boolean expressions. There are three main logical operators:\n",
        "- and: Returns `True` if both operands are true.\n",
        "- or: Returns `True` if at least one of the operands is true.\n",
        "- not: Returns `True` if the operand is `False`, and returns `False` if the operand is `True`.\n",
        "\n",
        "**9.\tWhat is type casting in Python?**\n",
        "- Type casting in Python refers to the conversion of one data type into another. Python has several built-in functions that enable you to perform type casting, allowing you to convert data from one type to another, such as converting integers to floats, floats to strings, strings to integers, etc.\n",
        "\n",
        "**10.\tWhat is the difference between implicit and explicit type casting?**\n",
        "- Implicit casting is automatic and generally safe, while explicit casting requires manual intervention by the programmer and may result in data loss.\n",
        "\n",
        "**11.\tWhat is the purpose of conditional statements in Python?**\n",
        "- Conditional statements in Python are used to perform different actions based on different conditions. They allow the program to execute certain blocks of code only when specific criteria or conditions are met.\n",
        "\n",
        "**12.\tHow does the elif statement work?**\n",
        "- The `elif` statement in Python is a way to chain multiple conditions when using conditional statements. It stands for \"else if\" and allows you to check additional conditions if the previous `if` or `elif` conditions evaluate to false. This helps to create a sequence of checks that provides more than just a binary outcome (true or false).\n",
        "\n",
        "The program first checks the condition associated with the `if` statement. If this condition is true, the block of code beneath it will be executed, and the rest of the conditional statements (`elif` and `else`) will be skipped.\n",
        "\n",
        "If the `if` condition is false, the program will then check the next `elif` statement (if there is one) in the order they are defined. If the condition of an `elif` statement evaluates to true, its associated block of code will execute, and any remaining `elif` or `else` statements will be skipped.\n",
        "\n",
        "If none of the `if` or `elif` conditions are true, the code block beneath the `else` statement (if provided) will be executed. The `else` statement acts as a fallback for all conditions that have not been met.\n",
        "\n",
        "**13.\tWhat is the difference between for and while loops?**\n",
        "- In Python and many other programming languages, `for` loops and `while` loops are both used for iteration, but they serve different purposes and are used in different scenarios.\n",
        "- A `for` loop iterates over a sequence (like a list, tuple, dictionary, set, or string) or ranges. It is generally used when the number of iterations is known beforehand.\n",
        "- A `while` loop continues to execute as long as a specified condition is true. It is used when the number of iterations is not known in advance and depends on dynamic conditions.\n",
        "\n",
        "**14.\tDescribe a scenario where a while loop is more suitable than a for loop.**\n",
        "- Certainly! A scenario where a `while` loop is more suitable than a `for` loop often involves cases where the number of iterations cannot be predetermined and depends on dynamic conditions.\n",
        "\n",
        "While developing a simple program that asks the user to enter their age. We will keep asking for the user's age until they enter a valid number (i.e., a positive integer). In this case, you don't know how many attempts the user will need to make, so a `while` loop is the most appropriate choice.\n"
      ],
      "metadata": {
        "id": "g44KPCbbeszV"
      }
    },
    {
      "cell_type": "code",
      "source": [
        "#Practical Question\n",
        "# Q-1 : Write a Python program to print \"Hello, World!\n",
        "print(\"Hello, World!\")\n"
      ],
      "metadata": {
        "colab": {
          "base_uri": "https://localhost:8080/"
        },
        "id": "JjwiSeN0gxCm",
        "outputId": "93b60ea1-434a-4656-e240-036d0e1fc937"
      },
      "execution_count": null,
      "outputs": [
        {
          "output_type": "stream",
          "name": "stdout",
          "text": [
            "Hello, World!\n"
          ]
        }
      ]
    },
    {
      "cell_type": "code",
      "source": [
        "# Q-2 : Write a Python program that displays your name and age.\n",
        "name=input(\"Enter your name: \")\n",
        "age=int(input(\"Enter your age: \"))\n",
        "print(\"My name is\",name,\"and my age is\",age)"
      ],
      "metadata": {
        "colab": {
          "base_uri": "https://localhost:8080/"
        },
        "id": "N5du_6hbg_Zw",
        "outputId": "127b7e61-4374-4802-a57e-bfdb780278a5"
      },
      "execution_count": null,
      "outputs": [
        {
          "output_type": "stream",
          "name": "stdout",
          "text": [
            "Enter your name: Sukhendu Sardar\n",
            "Enter your age: 25\n",
            "My name is Sukhendu Sardar and my age is 25\n"
          ]
        }
      ]
    },
    {
      "cell_type": "code",
      "source": [
        "# Q-3 : Write code to print all the pre-defined keywords in Python using the keyword library\n",
        "import keyword\n",
        "keywords = keyword.kwlist\n",
        "print(\"List of Python keywords:\")\n",
        "for kw in keywords:\n",
        "    print(kw)"
      ],
      "metadata": {
        "colab": {
          "base_uri": "https://localhost:8080/"
        },
        "id": "CwNklFeRhnBv",
        "outputId": "ee197f02-7705-4bbc-87a3-05c0f829b7e9"
      },
      "execution_count": null,
      "outputs": [
        {
          "output_type": "stream",
          "name": "stdout",
          "text": [
            "List of Python keywords:\n",
            "False\n",
            "None\n",
            "True\n",
            "and\n",
            "as\n",
            "assert\n",
            "async\n",
            "await\n",
            "break\n",
            "class\n",
            "continue\n",
            "def\n",
            "del\n",
            "elif\n",
            "else\n",
            "except\n",
            "finally\n",
            "for\n",
            "from\n",
            "global\n",
            "if\n",
            "import\n",
            "in\n",
            "is\n",
            "lambda\n",
            "nonlocal\n",
            "not\n",
            "or\n",
            "pass\n",
            "raise\n",
            "return\n",
            "try\n",
            "while\n",
            "with\n",
            "yield\n"
          ]
        }
      ]
    },
    {
      "cell_type": "code",
      "source": [
        "# Q-4 : Write a program that checks if a given word is a Python keyword\n",
        "import keyword\n",
        "word = input(\"Enter a word: \")\n",
        "if keyword.iskeyword(word):\n",
        "    print(f\"'{word}' is a Python keyword.\")\n",
        "else:\n",
        "    print(f\"'{word}' is not a Python keyword.\")"
      ],
      "metadata": {
        "colab": {
          "base_uri": "https://localhost:8080/"
        },
        "id": "BY6TefgTiLxQ",
        "outputId": "2f500502-3a26-4eb5-8e28-b06ae421f2cc"
      },
      "execution_count": null,
      "outputs": [
        {
          "output_type": "stream",
          "name": "stdout",
          "text": [
            "Enter a word: return\n",
            "'return' is a Python keyword.\n"
          ]
        }
      ]
    },
    {
      "cell_type": "code",
      "source": [
        "# Q-5 : Create a list and tuple in Python, and demonstrate how attempting to change an element works differently for each\n",
        "mylist=[1,2,3,4,5]\n",
        "print(\"Original List:\", mylist)\n",
        "mylist[2]=10 #Replace the 3rd position with 10\n",
        "print(\"List after modifying an element:\",mylist)\n",
        "mytuple=(1,2,3,4,5)\n",
        "print(\"Original Tuple:\", mytuple)\n",
        "try:\n",
        "    mytuple[2] = 10 #As tuple is immutable, we will receive TypeError. Item assignment can not be possible\n",
        "except TypeError as e:\n",
        "    print(\"Error while modifying tuple:\", e)\n",
        "\n",
        "\n"
      ],
      "metadata": {
        "id": "PwrvYWCFjHgw",
        "colab": {
          "base_uri": "https://localhost:8080/"
        },
        "outputId": "e76085be-cfd6-4c9d-bd40-5b822416c63b"
      },
      "execution_count": null,
      "outputs": [
        {
          "output_type": "stream",
          "name": "stdout",
          "text": [
            "Original List: [1, 2, 3, 4, 5]\n",
            "List after modifying an element: [1, 2, 10, 4, 5]\n",
            "Original Tuple: (1, 2, 3, 4, 5)\n",
            "Error while modifying tuple: 'tuple' object does not support item assignment\n"
          ]
        }
      ]
    },
    {
      "cell_type": "code",
      "source": [
        "# Q-6 & 7 are same: Write a function to demonstrate the behaviour of mutable and immutable arguments.\n",
        "print(\"I am unable to write this function, please guide\")"
      ],
      "metadata": {
        "colab": {
          "base_uri": "https://localhost:8080/"
        },
        "id": "60Olhu-ClN85",
        "outputId": "c97c95c1-ffa4-4bbe-894e-5d92dcbf337c"
      },
      "execution_count": null,
      "outputs": [
        {
          "output_type": "stream",
          "name": "stdout",
          "text": [
            "I am unable to write this function, please guide\n"
          ]
        }
      ]
    },
    {
      "cell_type": "code",
      "source": [
        "# Q-8 : Write a program to demonstrate the use of logical operators.\n",
        "a = 10\n",
        "b = 5\n",
        "c = 8\n",
        "output = (a>b) and (a>c)\n",
        "print(\"a is greater than b & c-\",output)\n",
        "output = (a>b) or (a<c)\n",
        "print(\"a is greater than b but less than c-\",output)\n",
        "output = not(a>b)\n",
        "print(\"a is not greater than b-\",output)\n"
      ],
      "metadata": {
        "colab": {
          "base_uri": "https://localhost:8080/"
        },
        "id": "bPEtnC5jqzF4",
        "outputId": "cf819e40-2aa7-4dae-cb55-7fad4a249cac"
      },
      "execution_count": null,
      "outputs": [
        {
          "output_type": "stream",
          "name": "stdout",
          "text": [
            "a is greater than b & c- True\n",
            "a is greater than b but less than c- True\n",
            "a is not greater than b- False\n"
          ]
        }
      ]
    },
    {
      "cell_type": "code",
      "source": [
        "# Q-9 : Write a Python program to convert user input from string to integer, float, and boolean types.\n",
        "user_input = input(\"Enter a value: \")\n",
        "integer_value = int(user_input)\n",
        "print(\"Integer value:\", integer_value)\n",
        "float_value = float(user_input)\n",
        "print(\"Float value:\", float_value)\n",
        "boolean_value = bool(user_input)\n",
        "print(\"Boolean value:\", boolean_value)"
      ],
      "metadata": {
        "colab": {
          "base_uri": "https://localhost:8080/"
        },
        "id": "BZsaRSsKsoMo",
        "outputId": "8d3400f8-28d9-470c-e6cf-92e4ba43f147"
      },
      "execution_count": null,
      "outputs": [
        {
          "output_type": "stream",
          "name": "stdout",
          "text": [
            "Enter a value: 15\n",
            "Integer value: 15\n",
            "Float value: 15.0\n",
            "Boolean value: True\n"
          ]
        }
      ]
    },
    {
      "cell_type": "code",
      "source": [
        "# Q-10 : Write code to demonstrate type casting with list elements\n",
        "mylist=[1,2.7,3,\"Raj\",5]\n",
        "print(\"Original List:\", mylist)\n",
        "mylist[1]=int #replace 2nd position with int\n",
        "print(\"List after modifying an element:\",mylist)\n"
      ],
      "metadata": {
        "colab": {
          "base_uri": "https://localhost:8080/"
        },
        "id": "1Bwx54H80L4P",
        "outputId": "1f367538-fbf1-43ef-c164-7af5f0325203"
      },
      "execution_count": null,
      "outputs": [
        {
          "output_type": "stream",
          "name": "stdout",
          "text": [
            "Original List: [1, 2.7, 3, 'Raj', 5]\n",
            "List after modifying an element: [1, <class 'int'>, 3, 'Raj', 5]\n"
          ]
        }
      ]
    },
    {
      "cell_type": "code",
      "source": [
        "# Q-11 : Write a program that checks if a number is positive, negative, or zero.\n",
        "mynumber=float(input(\"Enter a number: \"))\n",
        "if mynumber>0:\n",
        "    print(\"Number is positive\")\n",
        "elif mynumber<0:\n",
        "    print(\"Number is negative\")\n",
        "else:\n",
        "    print(\"Number is zero\")"
      ],
      "metadata": {
        "colab": {
          "base_uri": "https://localhost:8080/"
        },
        "id": "IMFLbw7ZRdnO",
        "outputId": "4504d898-34bc-41db-8056-15f91aa1f856"
      },
      "execution_count": 6,
      "outputs": [
        {
          "output_type": "stream",
          "name": "stdout",
          "text": [
            "Enter a number: 0\n",
            "Number is zero\n"
          ]
        }
      ]
    },
    {
      "cell_type": "code",
      "source": [
        "# Q-12 : Write a for loop to print numbers from 1 to 10.\n",
        "for s in range(1,11):\n",
        "    print(s)"
      ],
      "metadata": {
        "colab": {
          "base_uri": "https://localhost:8080/"
        },
        "id": "0H7OXXKzQgiH",
        "outputId": "d0cc7de0-149b-416b-a483-832e04759629"
      },
      "execution_count": 3,
      "outputs": [
        {
          "output_type": "stream",
          "name": "stdout",
          "text": [
            "1\n",
            "2\n",
            "3\n",
            "4\n",
            "5\n",
            "6\n",
            "7\n",
            "8\n",
            "9\n",
            "10\n"
          ]
        }
      ]
    },
    {
      "cell_type": "code",
      "source": [
        "# Q-13 : Write a Python program to find the sum of all even numbers between 1 and 50.\n",
        "result=0\n",
        "for i in range(1,51):\n",
        "    if i%2==0:\n",
        "        result+=i\n",
        "print(\"Sum of all even numbers between 1 and 50 is:\",result)"
      ],
      "metadata": {
        "colab": {
          "base_uri": "https://localhost:8080/"
        },
        "id": "TcFuJpcyRJYP",
        "outputId": "be6f778d-d085-41b3-b3d3-c9e98e5fa183"
      },
      "execution_count": 7,
      "outputs": [
        {
          "output_type": "stream",
          "name": "stdout",
          "text": [
            "Sum of all even numbers between 1 and 50 is: 650\n"
          ]
        }
      ]
    },
    {
      "cell_type": "code",
      "source": [
        "# Q-14 : Write a program to reverse a string using a while loop.\n",
        "name= str((input(\"Enter the name: \")))\n",
        "i = len(name) - 1\n",
        "\n",
        "while i >= 0:\n",
        "    print(name[i], end = '')\n",
        "    i = i - 1"
      ],
      "metadata": {
        "colab": {
          "base_uri": "https://localhost:8080/"
        },
        "id": "3qJR4TI3SPo3",
        "outputId": "0929a787-582f-478a-d609-f3e5f5f1300c"
      },
      "execution_count": 8,
      "outputs": [
        {
          "output_type": "stream",
          "name": "stdout",
          "text": [
            "Enter the name: sukhendu\n",
            "udnehkus"
          ]
        }
      ]
    },
    {
      "cell_type": "code",
      "source": [
        "# Q-15 : Write a Python program to calculate the factorial of a number provided by the user using a while loop.\n",
        "my_num = int(input(\"Enter a number: \"))\n",
        "factorial = 1\n",
        "current_number = 1\n",
        "while current_number <= my_num:\n",
        "    factorial *= current_number\n",
        "    current_number += 1\n",
        "print(f\"The factorial of {my_num} is {factorial}\")"
      ],
      "metadata": {
        "colab": {
          "base_uri": "https://localhost:8080/"
        },
        "id": "D-rjV-1dTAM3",
        "outputId": "38ffd289-c7bd-4173-ae27-2af4f080c7e4"
      },
      "execution_count": 10,
      "outputs": [
        {
          "output_type": "stream",
          "name": "stdout",
          "text": [
            "Enter a number: 5\n",
            "The factorial of 5 is 120\n"
          ]
        }
      ]
    },
    {
      "cell_type": "code",
      "source": [],
      "metadata": {
        "id": "VsAtViP7T5J4"
      },
      "execution_count": null,
      "outputs": []
    }
  ]
}